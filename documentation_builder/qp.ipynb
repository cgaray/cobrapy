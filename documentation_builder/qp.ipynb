{
 "metadata": {
  "name": "",
  "signature": "sha256:e67f2e7a57807cf8a0e9a60f943fccdcf5a06e4da3143cfe589ec195b1e98cf2"
 },
 "nbformat": 3,
 "nbformat_minor": 0,
 "worksheets": [
  {
   "cells": [
    {
     "cell_type": "heading",
     "level": 1,
     "metadata": {},
     "source": [
      "Quadratic Programming"
     ]
    },
    {
     "cell_type": "markdown",
     "metadata": {},
     "source": [
      "This example is available as an IPython [notebook](http://nbviewer.ipython.org/github/opencobra/cobrapy/blob/master/documentation_builder/qp.ipynb)."
     ]
    },
    {
     "cell_type": "markdown",
     "metadata": {},
     "source": [
      "Suppose we want to minimize the Euclidean distance of the solution to the origin while subject to linear constraints. This will require a quadratic objective function.\n",
      "\n",
      "> **min** $\\frac{1}{2}\\left(x^2 + y^2 \\right)$\n",
      "\n",
      "> *subject to*\n",
      "\n",
      "> $x + y = 2$\n",
      "\n",
      "> $x \\ge 0$\n",
      "\n",
      "> $y \\ge 0$\n",
      "\n",
      "The objective can be rewritten as $\\frac{1}{2} v^T \\cdot \\mathbf Q \\cdot v$, where\n",
      "$v = \\left(\\begin{matrix} x \\\\ y\\end{matrix} \\right)$ and\n",
      "$\\mathbf Q = \\left(\\begin{matrix} 1 & 0\\\\ 0 & 1 \\end{matrix}\\right)$\n",
      "\n",
      "The matrix $\\mathbf Q$ can be passed into a cobra model as the quadratic objective."
     ]
    },
    {
     "cell_type": "code",
     "collapsed": false,
     "input": [
      "import scipy\n",
      "\n",
      "from cobra import Reaction, Metabolite, Model, solvers\n"
     ],
     "language": "python",
     "metadata": {},
     "outputs": [],
     "prompt_number": 1
    },
    {
     "cell_type": "markdown",
     "metadata": {},
     "source": [
      "The quadratic objective $\\mathbf Q$ should be formatted as a scipy sparse matrix."
     ]
    },
    {
     "cell_type": "code",
     "collapsed": false,
     "input": [
      "Q = scipy.sparse.eye(2).todok()\n",
      "Q"
     ],
     "language": "python",
     "metadata": {},
     "outputs": [
      {
       "metadata": {},
       "output_type": "pyout",
       "prompt_number": 2,
       "text": [
        "<2x2 sparse matrix of type '<type 'numpy.float64'>'\n",
        "\twith 2 stored elements in Dictionary Of Keys format>"
       ]
      }
     ],
     "prompt_number": 2
    },
    {
     "cell_type": "markdown",
     "metadata": {},
     "source": [
      "In this case, the quadratic objective is simply the identity matrix"
     ]
    },
    {
     "cell_type": "code",
     "collapsed": false,
     "input": [
      "Q.todense()"
     ],
     "language": "python",
     "metadata": {},
     "outputs": [
      {
       "metadata": {},
       "output_type": "pyout",
       "prompt_number": 3,
       "text": [
        "matrix([[ 1.,  0.],\n",
        "        [ 0.,  1.]])"
       ]
      }
     ],
     "prompt_number": 3
    },
    {
     "cell_type": "markdown",
     "metadata": {},
     "source": [
      "We need to use a solver that supports quadratic programming, such as gurobi or cplex. If a solver which supports quadratic programming is installed, this function will return its name."
     ]
    },
    {
     "cell_type": "code",
     "collapsed": false,
     "input": [
      "print(solvers.get_solver_name(qp=True))"
     ],
     "language": "python",
     "metadata": {},
     "outputs": [
      {
       "output_type": "stream",
       "stream": "stdout",
       "text": [
        "gurobi\n"
       ]
      }
     ],
     "prompt_number": 4
    },
    {
     "cell_type": "code",
     "collapsed": false,
     "input": [
      "c = Metabolite(\"c\")\n",
      "c._bound = 2\n",
      "x = Reaction(\"x\")\n",
      "y = Reaction(\"y\")\n",
      "x.add_metabolites({c: 1})\n",
      "y.add_metabolites({c: 1})\n",
      "m = Model()\n",
      "m.add_reactions([x, y])\n",
      "sol = m.optimize(quadratic_component=Q, objective_sense=\"minimize\")\n",
      "sol.x_dict"
     ],
     "language": "python",
     "metadata": {},
     "outputs": [
      {
       "metadata": {},
       "output_type": "pyout",
       "prompt_number": 5,
       "text": [
        "{'x': 1.0, 'y': 1.0}"
       ]
      }
     ],
     "prompt_number": 5
    },
    {
     "cell_type": "markdown",
     "metadata": {},
     "source": [
      "Suppose we change the problem to have a mixed linear and quadratic objective."
     ]
    },
    {
     "cell_type": "markdown",
     "metadata": {},
     "source": [
      "> **min** $\\frac{1}{2}\\left(x^2 + y^2 \\right) - y$\n",
      "\n",
      "> *subject to*\n",
      "\n",
      "> $x + y = 2$\n",
      "\n",
      "> $x \\ge 0$\n",
      "\n",
      "> $y \\ge 0$"
     ]
    },
    {
     "cell_type": "code",
     "collapsed": false,
     "input": [
      "y.objective_coefficient = -1\n",
      "sol = m.optimize(quadratic_component=Q, objective_sense=\"minimize\")\n",
      "sol.x_dict"
     ],
     "language": "python",
     "metadata": {},
     "outputs": [
      {
       "metadata": {},
       "output_type": "pyout",
       "prompt_number": 6,
       "text": [
        "{'x': 0.5, 'y': 1.5}"
       ]
      }
     ],
     "prompt_number": 6
    }
   ],
   "metadata": {}
  }
 ]
}